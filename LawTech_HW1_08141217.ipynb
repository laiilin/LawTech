{
 "cells": [
  {
   "cell_type": "markdown",
   "metadata": {},
   "source": [
    "# LawTech_HW1_08141217"
   ]
  },
  {
   "cell_type": "markdown",
   "metadata": {},
   "source": [
    "繳交檔名：LawTech_HW1_學號"
   ]
  },
  {
   "cell_type": "markdown",
   "metadata": {},
   "source": [
    "#### 一、字串處理"
   ]
  },
  {
   "cell_type": "markdown",
   "metadata": {},
   "source": [
    "請用「空白鍵」當作切割符，對 `test1`變數做切割，並將Zombie、boys、Vampire這幾個單詞抓出來，使用字串格式化的方式產生下面的句子"
   ]
  },
  {
   "cell_type": "markdown",
   "metadata": {},
   "source": [
    "Oh! boys, please don't fear Zombie and Vampire."
   ]
  },
  {
   "cell_type": "code",
   "execution_count": 52,
   "metadata": {},
   "outputs": [],
   "source": [
    "test1 = \"Zombie stories are life lessons for boys who don't mind thinking about bodies, but can't cope with emotions. \\\n",
    "Vampire stories are in many ways sex for the squeamish.\""
   ]
  },
  {
   "cell_type": "code",
   "execution_count": 53,
   "metadata": {},
   "outputs": [],
   "source": [
    "test1=test1.split(' ')"
   ]
  },
  {
   "cell_type": "code",
   "execution_count": 54,
   "metadata": {},
   "outputs": [
    {
     "data": {
      "text/plain": [
       "'Vampire'"
      ]
     },
     "execution_count": 54,
     "metadata": {},
     "output_type": "execute_result"
    }
   ],
   "source": [
    "test1[18]"
   ]
  },
  {
   "cell_type": "code",
   "execution_count": 57,
   "metadata": {},
   "outputs": [
    {
     "name": "stdout",
     "output_type": "stream",
     "text": [
      "Oh!boys,please don't fear Zombie and Vampire\n"
     ]
    }
   ],
   "source": [
    "print(f\"Oh!{test1[6]},please don't fear {test1[0]} and {test1[18]}\")"
   ]
  },
  {
   "cell_type": "markdown",
   "metadata": {},
   "source": [
    "#### 二、Index索引練習\n",
    "\n",
    "請將 List 中的數字抓出，並算出總合為多少"
   ]
  },
  {
   "cell_type": "code",
   "execution_count": 31,
   "metadata": {},
   "outputs": [],
   "source": [
    "List = [23, 'red', 3, ['15', 'apple', [3, '3.5']], '27', [90, 'fight']]"
   ]
  },
  {
   "cell_type": "code",
   "execution_count": 60,
   "metadata": {},
   "outputs": [
    {
     "data": {
      "text/plain": [
       "164.5"
      ]
     },
     "execution_count": 60,
     "metadata": {},
     "output_type": "execute_result"
    }
   ],
   "source": [
    "List[0]+List[2]+List[3][2][0]+List[5][0]+eval(List[3][0])+eval(List[3][2][1])+eval(List[4])"
   ]
  },
  {
   "cell_type": "markdown",
   "metadata": {},
   "source": [
    "#### 三、資料存取練習"
   ]
  },
  {
   "cell_type": "markdown",
   "metadata": {},
   "source": [
    "請設計一個資料結構（dict of list），來儲存以下數據\n",
    "\n",
    "\n",
    "Jay--M--170\n",
    "\n",
    "Bill--M--189\n",
    "\n",
    "Alice--F--160\n",
    "\n",
    "May--F--158\n",
    "\n",
    "Max--M--185\n",
    "\n",
    "Ann--F--148\n",
    "\n",
    "Dabby--F--150\n",
    "\n",
    "Steve--M--180\n",
    "\n",
    "Jet--M--173\n",
    "\n",
    "Amy--F--156\n",
    "\n",
    "並計算這10人的身高平均"
   ]
  },
  {
   "cell_type": "markdown",
   "metadata": {},
   "source": [
    "`sum()`：合計function\n"
   ]
  },
  {
   "cell_type": "code",
   "execution_count": 65,
   "metadata": {},
   "outputs": [],
   "source": [
    "dict1 = {'Jay':['M',170], 'Bill':['M',189], 'Alice':['F',160], 'May':['F',158], 'Max':['M',185], 'Ann':['F',148], 'Dabby':['F',150], 'Steve':['M',180],'Jet':['M',173], 'Amy':['F',156]}"
   ]
  },
  {
   "cell_type": "code",
   "execution_count": 80,
   "metadata": {},
   "outputs": [
    {
     "data": {
      "text/plain": [
       "166.9"
      ]
     },
     "execution_count": 80,
     "metadata": {},
     "output_type": "execute_result"
    }
   ],
   "source": [
    "(dict1['Jay'][1]+dict1['Bill'][1]+dict1['Alice'][1]+dict1['May'][1]+dict1['Max'][1]+dict1['Ann'][1]+dict1['Dabby'][1]+dict1['Steve'][1]+dict1['Jet'][1]+dict1['Amy'][1])/len(dict1.keys())"
   ]
  }
 ],
 "metadata": {
  "kernelspec": {
   "display_name": "Python 3",
   "language": "python",
   "name": "python3"
  },
  "language_info": {
   "codemirror_mode": {
    "name": "ipython",
    "version": 3
   },
   "file_extension": ".py",
   "mimetype": "text/x-python",
   "name": "python",
   "nbconvert_exporter": "python",
   "pygments_lexer": "ipython3",
   "version": "3.8.3"
  }
 },
 "nbformat": 4,
 "nbformat_minor": 2
}
